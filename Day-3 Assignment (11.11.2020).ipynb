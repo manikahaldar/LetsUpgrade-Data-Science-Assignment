{
 "cells": [
  {
   "cell_type": "markdown",
   "metadata": {},
   "source": [
    "## Questions 1:"
   ]
  },
  {
   "cell_type": "markdown",
   "metadata": {},
   "source": [
    "### Create a numpy array starting from 2 till 50 with a stepsize of 3."
   ]
  },
  {
   "cell_type": "code",
   "execution_count": 1,
   "metadata": {},
   "outputs": [
    {
     "name": "stdout",
     "output_type": "stream",
     "text": [
      "[ 2  5  8 11 14 17 20 23 26 29 32 35 38 41 44 47 50]\n"
     ]
    }
   ],
   "source": [
    "import numpy as np\n",
    "arr = np.arange(2,51,3)\n",
    "print(arr)"
   ]
  },
  {
   "cell_type": "markdown",
   "metadata": {},
   "source": [
    "## Questions 2:"
   ]
  },
  {
   "cell_type": "markdown",
   "metadata": {},
   "source": [
    "### Accept two lists of 5 elements each from the user. Convert them to numpy arrays. Concatenate these arrays and print it. Also sort these arrays and print it."
   ]
  },
  {
   "cell_type": "code",
   "execution_count": 2,
   "metadata": {},
   "outputs": [
    {
     "name": "stdout",
     "output_type": "stream",
     "text": [
      "1st list elements:\n",
      "7\n",
      "85\n",
      "41\n",
      "79\n",
      "23\n",
      "2nd list elements:\n",
      "25\n",
      "14\n",
      "74\n",
      "78\n",
      "96\n",
      "1st_list=  [7, 85, 41, 79, 23]\n",
      "2nd_list=  [25, 14, 74, 78, 96]\n",
      "1st Array:  [ 7 85 41 79 23]\n",
      "2nd Array:  [25 14 74 78 96]\n",
      "Concatenate Array:  [ 7 85 41 79 23 25 14 74 78 96]\n",
      "1st sort Array:  [ 7 23 41 79 85]\n",
      "2nd sort Array:  [14 25 74 78 96]\n",
      "3rd sort Array:  [ 7 14 23 25 41 74 78 79 85 96]\n"
     ]
    }
   ],
   "source": [
    "list1=[]\n",
    "print(\"1st list elements:\")\n",
    "for x in range(1,6):\n",
    "    a=int(input())\n",
    "    list1.append(a)\n",
    "\n",
    "list2=[]\n",
    "print(\"2nd list elements:\")\n",
    "for y in range(1,6):\n",
    "    b=int(input())\n",
    "    list2.append(b)\n",
    "    \n",
    "print(\"1st_list= \" , list1)\n",
    "print(\"2nd_list= \" , list2)\n",
    "import numpy as np\n",
    "array1=np.array(list1)\n",
    "print(\"1st Array: \",array1)\n",
    "array2=np.array(list2)\n",
    "print(\"2nd Array: \",array2)\n",
    "array3=np.concatenate((array1,array2))\n",
    "print(\"Concatenate Array: \",array3)\n",
    "\n",
    "sort_array1=np.sort(array1)\n",
    "print(\"1st sort Array: \",sort_array1)\n",
    "sort_array2=np.sort(array2)\n",
    "print(\"2nd sort Array: \",sort_array2)\n",
    "sort_array3=np.sort(array3)\n",
    "print(\"3rd sort Array: \",sort_array3)"
   ]
  },
  {
   "cell_type": "markdown",
   "metadata": {},
   "source": [
    "## Questions 3:"
   ]
  },
  {
   "cell_type": "markdown",
   "metadata": {},
   "source": [
    "### Write a code snippet to find the dimensions of a ndarray and its size."
   ]
  },
  {
   "cell_type": "code",
   "execution_count": 3,
   "metadata": {},
   "outputs": [
    {
     "name": "stdout",
     "output_type": "stream",
     "text": [
      "1 Dimensional Array:\n",
      "[0 1 2 3 4 5 6]\n",
      "Dimension: 1\n",
      "Size: 7\n",
      "\n",
      "2 Dimensional Array:\n",
      "[[0 1 2]\n",
      " [3 4 5]\n",
      " [6 7 8]]\n",
      "Dimension: 2\n",
      "Size: 9\n",
      "\n"
     ]
    }
   ],
   "source": [
    "print(\"1 Dimensional Array:\")\n",
    "array_1D = np.arange(7)\n",
    "print(array_1D)\n",
    "print(\"Dimension:\", array_1D.ndim)\n",
    "print(\"Size:\",array_1D.size)\n",
    "print()\n",
    "print(\"2 Dimensional Array:\")\n",
    "array_2D = np.arange(9).reshape(3,3)\n",
    "print(array_2D)\n",
    "print(\"Dimension:\", array_2D.ndim)\n",
    "print(\"Size:\",array_2D.size)\n",
    "print()"
   ]
  },
  {
   "cell_type": "markdown",
   "metadata": {},
   "source": [
    "##  Questions 4:"
   ]
  },
  {
   "cell_type": "markdown",
   "metadata": {},
   "source": [
    "### How to convert a 1D array into a 2D array? Demonstrate with the help of a code snippet\n",
    "Hint: np.newaxis, np.expand_dims"
   ]
  },
  {
   "cell_type": "code",
   "execution_count": 4,
   "metadata": {},
   "outputs": [
    {
     "name": "stdout",
     "output_type": "stream",
     "text": [
      "1D Array :\n",
      "[ 5  8  9  4 23 15 76 67]\n",
      "\n",
      "2D Array : \n",
      "[[ 5  8  9  4]\n",
      " [23 15 76 67]]\n"
     ]
    }
   ],
   "source": [
    "array1 = np.array([5,8,9,4,23,15,76,67])\n",
    "print(\"1D Array :\")\n",
    "print(array1)\n",
    "print()\n",
    "array2= np.reshape(array1, (2, 4))\n",
    "print(\"2D Array : \")\n",
    "print(array2)"
   ]
  },
  {
   "cell_type": "markdown",
   "metadata": {},
   "source": [
    "## Questions 5:"
   ]
  },
  {
   "cell_type": "markdown",
   "metadata": {},
   "source": [
    "### Consider two square numpy arrays. Stack them vertically and horizontally.\n",
    "Hint: Use vstack(), hstack()"
   ]
  },
  {
   "cell_type": "code",
   "execution_count": 5,
   "metadata": {},
   "outputs": [
    {
     "name": "stdout",
     "output_type": "stream",
     "text": [
      "Vertically Stacked : \n",
      "[[ 0  1  2  3  4]\n",
      " [ 5  6  7  8  9]\n",
      " [10 11 12 13 14]\n",
      " [15 16 17 18 19]\n",
      " [20 21 22 23 24]\n",
      " [ 0  1  2  3  4]\n",
      " [ 5  6  7  8  9]\n",
      " [10 11 12 13 14]\n",
      " [15 16 17 18 19]\n",
      " [20 21 22 23 24]]\n",
      "\n",
      "Horizontally Stacked : \n",
      "[[ 0  1  2  3  4  0  1  2  3  4]\n",
      " [ 5  6  7  8  9  5  6  7  8  9]\n",
      " [10 11 12 13 14 10 11 12 13 14]\n",
      " [15 16 17 18 19 15 16 17 18 19]\n",
      " [20 21 22 23 24 20 21 22 23 24]]\n"
     ]
    }
   ],
   "source": [
    "array1 = np.arange(25).reshape(5,5)\n",
    "array2 = np.arange(25).reshape(5,5)\n",
    "V_Stack = np.vstack((array1,array2))\n",
    "H_Stack = np.hstack((array1,array2))\n",
    "print(\"Vertically Stacked : \")\n",
    "print(V_Stack)\n",
    "print()\n",
    "print(\"Horizontally Stacked : \")\n",
    "print(H_Stack)"
   ]
  },
  {
   "cell_type": "markdown",
   "metadata": {},
   "source": [
    "## Questions 6:"
   ]
  },
  {
   "cell_type": "markdown",
   "metadata": {},
   "source": [
    "### How to get unique items and counts of unique items?"
   ]
  },
  {
   "cell_type": "code",
   "execution_count": 6,
   "metadata": {},
   "outputs": [
    {
     "name": "stdout",
     "output_type": "stream",
     "text": [
      "[3 4 5 6 7] [1 2 2 3 1]\n"
     ]
    }
   ],
   "source": [
    "list = np.array([5,6,7,6,4,3,5,6,4])\n",
    "\n",
    "(unique, counts) = np.unique(list, return_counts=True)\n",
    "print(unique,counts)"
   ]
  },
  {
   "cell_type": "code",
   "execution_count": null,
   "metadata": {},
   "outputs": [],
   "source": []
  }
 ],
 "metadata": {
  "kernelspec": {
   "display_name": "Python 3",
   "language": "python",
   "name": "python3"
  },
  "language_info": {
   "codemirror_mode": {
    "name": "ipython",
    "version": 3
   },
   "file_extension": ".py",
   "mimetype": "text/x-python",
   "name": "python",
   "nbconvert_exporter": "python",
   "pygments_lexer": "ipython3",
   "version": "3.8.3"
  }
 },
 "nbformat": 4,
 "nbformat_minor": 4
}
